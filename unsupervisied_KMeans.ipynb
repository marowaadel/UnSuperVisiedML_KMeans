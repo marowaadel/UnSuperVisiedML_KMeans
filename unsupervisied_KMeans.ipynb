{
  "nbformat": 4,
  "nbformat_minor": 0,
  "metadata": {
    "colab": {
      "name": "Copy of task2_kmeans.ipynb",
      "provenance": [],
      "collapsed_sections": []
    },
    "kernelspec": {
      "name": "python3",
      "display_name": "Python 3"
    },
    "language_info": {
      "name": "python"
    }
  },
  "cells": [
    {
      "cell_type": "markdown",
      "source": [
        "un supervised machine learning (K_means) with Python \n"
      ],
      "metadata": {
        "id": "yXWHutmHnOSJ"
      }
    },
    {
      "cell_type": "code",
      "execution_count": 1,
      "metadata": {
        "id": "fvmPXWL1jKXd"
      },
      "outputs": [],
      "source": [
        "#importing important libraries\n",
        "import pandas as pd\n",
        "import numpy as np\n",
        "import matplotlib.pyplot as plt\n",
        "from sklearn.model_selection import train_test_split \n",
        "from sklearn.model_selection import cross_val_score\n",
        "from sklearn.model_selection import StratifiedKFold\n",
        "from sklearn.metrics import classification_report\n",
        "from sklearn.metrics import confusion_matrix\n",
        "from sklearn.metrics import accuracy_score\n",
        "from sklearn.linear_model import LogisticRegression\n",
        "from sklearn.tree import DecisionTreeClassifier\n",
        "from sklearn.neighbors import KNeighborsClassifier\n",
        "from sklearn.discriminant_analysis import LinearDiscriminantAnalysis\n",
        "from sklearn.naive_bayes import GaussianNB\n",
        "from sklearn.svm import SVC"
      ]
    },
    {
      "cell_type": "code",
      "source": [
        "from google.colab import drive\n",
        "drive.mount('/content/drive')"
      ],
      "metadata": {
        "colab": {
          "base_uri": "https://localhost:8080/"
        },
        "id": "jbfB8NVRpOTY",
        "outputId": "392b26aa-fa76-40ca-9def-62a688d701cb"
      },
      "execution_count": 2,
      "outputs": [
        {
          "output_type": "stream",
          "name": "stdout",
          "text": [
            "Mounted at /content/drive\n"
          ]
        }
      ]
    },
    {
      "cell_type": "code",
      "source": [
        "# Data Directory\n",
        "file_path = '/content/drive/My Drive/Iris.csv'\n",
        "data = pd.read_csv(file_path,lineterminator='\\n')\n",
        "print(\"Data imported successfully\")"
      ],
      "metadata": {
        "colab": {
          "base_uri": "https://localhost:8080/"
        },
        "id": "HNbDWS3fpZDR",
        "outputId": "9f3f453e-a2ec-4300-f3f0-63712f34b17e"
      },
      "execution_count": 3,
      "outputs": [
        {
          "output_type": "stream",
          "name": "stdout",
          "text": [
            "Data imported successfully\n"
          ]
        }
      ]
    },
    {
      "cell_type": "code",
      "source": [
        "data.shape"
      ],
      "metadata": {
        "colab": {
          "base_uri": "https://localhost:8080/"
        },
        "id": "ZZ1ecJGInwHg",
        "outputId": "5f5a07ed-c373-41c6-8228-1ff1f821050e"
      },
      "execution_count": 4,
      "outputs": [
        {
          "output_type": "execute_result",
          "data": {
            "text/plain": [
              "(150, 6)"
            ]
          },
          "metadata": {},
          "execution_count": 4
        }
      ]
    },
    {
      "cell_type": "code",
      "source": [
        "print(data.head(20))"
      ],
      "metadata": {
        "colab": {
          "base_uri": "https://localhost:8080/"
        },
        "id": "iqORDN-Ep-BK",
        "outputId": "3bac7bd4-c50b-4056-c37d-a6b76cad5d50"
      },
      "execution_count": 5,
      "outputs": [
        {
          "output_type": "stream",
          "name": "stdout",
          "text": [
            "    Id  SepalLengthCm  SepalWidthCm  PetalLengthCm  PetalWidthCm      Species\n",
            "0    1            5.1           3.5            1.4           0.2  Iris-setosa\n",
            "1    2            4.9           3.0            1.4           0.2  Iris-setosa\n",
            "2    3            4.7           3.2            1.3           0.2  Iris-setosa\n",
            "3    4            4.6           3.1            1.5           0.2  Iris-setosa\n",
            "4    5            5.0           3.6            1.4           0.2  Iris-setosa\n",
            "5    6            5.4           3.9            1.7           0.4  Iris-setosa\n",
            "6    7            4.6           3.4            1.4           0.3  Iris-setosa\n",
            "7    8            5.0           3.4            1.5           0.2  Iris-setosa\n",
            "8    9            4.4           2.9            1.4           0.2  Iris-setosa\n",
            "9   10            4.9           3.1            1.5           0.1  Iris-setosa\n",
            "10  11            5.4           3.7            1.5           0.2  Iris-setosa\n",
            "11  12            4.8           3.4            1.6           0.2  Iris-setosa\n",
            "12  13            4.8           3.0            1.4           0.1  Iris-setosa\n",
            "13  14            4.3           3.0            1.1           0.1  Iris-setosa\n",
            "14  15            5.8           4.0            1.2           0.2  Iris-setosa\n",
            "15  16            5.7           4.4            1.5           0.4  Iris-setosa\n",
            "16  17            5.4           3.9            1.3           0.4  Iris-setosa\n",
            "17  18            5.1           3.5            1.4           0.3  Iris-setosa\n",
            "18  19            5.7           3.8            1.7           0.3  Iris-setosa\n",
            "19  20            5.1           3.8            1.5           0.3  Iris-setosa\n"
          ]
        }
      ]
    },
    {
      "cell_type": "code",
      "source": [
        "# Split-out validation dataset\n",
        "array = data.values\n",
        "X = array[:,0:4]\n"
      ],
      "metadata": {
        "id": "9MYxV0SDq_8h"
      },
      "execution_count": 6,
      "outputs": []
    },
    {
      "cell_type": "code",
      "source": [
        "#Building the clustering model and calculating the values of the Distortion:\n",
        "\n",
        "from sklearn.cluster import KMeans\n",
        "from sklearn import metrics\n",
        "from scipy.spatial.distance import cdist\n",
        "\n",
        "distortions = []\n",
        "mapping1 = {}\n",
        "K = range(1, 10)\n",
        "\n",
        "for k in K:\n",
        "\t# Building and fitting the model\n",
        "\tkmeanModel = KMeans(n_clusters=k).fit(X)\n",
        "\tkmeanModel.fit(X)\n",
        "\n",
        "\tdistortions.append(sum(np.min(cdist(X, kmeanModel.cluster_centers_,\n",
        "\t\t\t\t\t\t\t\t\t\t'euclidean'), axis=1)) / X.shape[0])\n",
        "\t\n",
        "\tmapping1[k] = sum(np.min(cdist(X, kmeanModel.cluster_centers_,\n",
        "\t\t\t\t\t\t\t\t'euclidean'), axis=1)) / X.shape[0]\n",
        "\t\n"
      ],
      "metadata": {
        "id": "YxNzJKAAE2Tc"
      },
      "execution_count": 9,
      "outputs": []
    },
    {
      "cell_type": "code",
      "source": [
        "#Tabulating and Visualizing the results\n",
        "#Using the different values of Distortion:\n",
        "for key, val in mapping1.items():\n",
        "    print(f'{key} : {val}')"
      ],
      "metadata": {
        "colab": {
          "base_uri": "https://localhost:8080/"
        },
        "id": "zBokwFwjFJQZ",
        "outputId": "38cbc1f8-26ba-4ecf-acad-9ce0b935c19d"
      },
      "execution_count": 10,
      "outputs": [
        {
          "output_type": "stream",
          "name": "stdout",
          "text": [
            "1 : 37.569102467109566\n",
            "2 : 18.837761066495588\n",
            "3 : 12.549987064911686\n",
            "4 : 9.489126917038542\n",
            "5 : 7.625745425716944\n",
            "6 : 6.336003330606812\n",
            "7 : 5.493540194048914\n",
            "8 : 4.828225599432593\n",
            "9 : 4.281441975137571\n"
          ]
        }
      ]
    },
    {
      "cell_type": "code",
      "source": [
        "#ploting distortions curve\n",
        "plt.plot(K, distortions, 'bx-')\n",
        "plt.xlabel('Values of K')\n",
        "plt.ylabel('Distortion')\n",
        "plt.title('The Elbow Method using Distortion')\n",
        "plt.show()\n"
      ],
      "metadata": {
        "colab": {
          "base_uri": "https://localhost:8080/",
          "height": 295
        },
        "id": "2X9yZ75dFTaG",
        "outputId": "4e9ce68b-28b3-46b0-e5ff-5068c91dad18"
      },
      "execution_count": 11,
      "outputs": [
        {
          "output_type": "display_data",
          "data": {
            "image/png": "[encoded data removed]",
            "text/plain": [
              "<Figure size 432x288 with 1 Axes>"
            ]
          },
          "metadata": {
            "needs_background": "light"
          }
        }
      ]
    },
    {
      "cell_type": "code",
      "source": [
        "from numpy import unique\n",
        "from numpy import where\n",
        "from sklearn.cluster import KMeans\n",
        "# define the model\n",
        "model = KMeans(n_clusters=2)\n",
        "# fit the model\n",
        "model.fit(X)\n",
        "# assign a cluster to each example\n",
        "yhat = model.predict(X)\n",
        "# retrieve unique clusters\n",
        "clusters = unique(yhat)\n",
        "# create scatter plot for samples from each cluster\n",
        "for cluster in clusters:\n",
        "\t# get row indexes for samples with this cluster\n",
        "\trow_ix = where(yhat == cluster)\n",
        "\t# create scatter of these samples\n",
        "\tplt.scatter(X[row_ix, 0], X[row_ix, 1])\n",
        "# show the plot\n",
        "plt.show()"
      ],
      "metadata": {
        "colab": {
          "base_uri": "https://localhost:8080/",
          "height": 265
        },
        "id": "geey6MzzrXSG",
        "outputId": "56617ea3-bcbd-4086-cebd-b9f0e2352e2c"
      },
      "execution_count": 12,
      "outputs": [
        {
          "output_type": "display_data",
          "data": {
            "image/png": "[encoded data removed]",
            "text/plain": [
              "<Figure size 432x288 with 1 Axes>"
            ]
          },
          "metadata": {
            "needs_background": "light"
          }
        }
      ]
    },
    {
      "cell_type": "code",
      "source": [
        "# define the model\n",
        "model = KMeans(n_clusters=3)\n",
        "# fit the model\n",
        "model.fit(X)\n",
        "# assign a cluster to each example\n",
        "yhat = model.predict(X)\n",
        "# retrieve unique clusters\n",
        "clusters = unique(yhat)\n",
        "# create scatter plot for samples from each cluster\n",
        "for cluster in clusters:\n",
        "\t# get row indexes for samples with this cluster\n",
        "\trow_ix = where(yhat == cluster)\n",
        "\t# create scatter of these samples\n",
        "\tplt.scatter(X[row_ix, 0], X[row_ix, 1])\n",
        "# show the plot\n",
        "plt.show()"
      ],
      "metadata": {
        "colab": {
          "base_uri": "https://localhost:8080/",
          "height": 265
        },
        "id": "niWLVhvnty0m",
        "outputId": "be2e0a40-ecac-40f4-9434-f19bce8c129c"
      },
      "execution_count": 13,
      "outputs": [
        {
          "output_type": "display_data",
          "data": {
            "image/png": "[encoded data removed]",
            "text/plain": [
              "<Figure size 432x288 with 1 Axes>"
            ]
          },
          "metadata": {
            "needs_background": "light"
          }
        }
      ]
    },
    {
      "cell_type": "code",
      "source": [
        "# define the model\n",
        "model = KMeans(n_clusters=4)\n",
        "# fit the model\n",
        "model.fit(X)\n",
        "# assign a cluster to each example\n",
        "yhat = model.predict(X)\n",
        "# retrieve unique clusters\n",
        "clusters = unique(yhat)\n",
        "# create scatter plot for samples from each cluster\n",
        "for cluster in clusters:\n",
        "\t# get row indexes for samples with this cluster\n",
        "\trow_ix = where(yhat == cluster)\n",
        "\t# create scatter of these samples\n",
        "\tplt.scatter(X[row_ix, 0], X[row_ix, 1])\n",
        "# show the plot\n",
        "plt.show()"
      ],
      "metadata": {
        "colab": {
          "base_uri": "https://localhost:8080/",
          "height": 265
        },
        "id": "Ser2XAa-tkIR",
        "outputId": "76192c32-c8df-4b16-8741-346eb182dfd0"
      },
      "execution_count": 14,
      "outputs": [
        {
          "output_type": "display_data",
          "data": {
            "image/png": "[encoded data removed]",
            "text/plain": [
              "<Figure size 432x288 with 1 Axes>"
            ]
          },
          "metadata": {
            "needs_background": "light"
          }
        }
      ]
    },
    {
      "cell_type": "code",
      "source": [
        ""
      ],
      "metadata": {
        "id": "twVY9ixguETa"
      },
      "execution_count": null,
      "outputs": []
    }
  ]
}